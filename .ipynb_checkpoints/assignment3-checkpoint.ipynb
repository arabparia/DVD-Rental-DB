{
 "cells": [
  {
   "cell_type": "code",
   "execution_count": null,
   "id": "f88d99fd",
   "metadata": {},
   "outputs": [],
   "source": [
    "import pandas as pd\n",
    "import numpy as np\n",
    "import matplotlib.pyplot as plt"
   ]
  },
  {
   "cell_type": "code",
   "execution_count": null,
   "id": "06b3aef1",
   "metadata": {},
   "outputs": [],
   "source": [
    "data3=pd.read_csv(\"Project-assignmenttable3.csv\")\n",
    "data3"
   ]
  },
  {
   "cell_type": "code",
   "execution_count": 7,
   "id": "c4bca5ae",
   "metadata": {},
   "outputs": [],
   "source": [
    "grouped_data = data3.groupby('store_id')"
   ]
  },
  {
   "cell_type": "code",
   "execution_count": 1,
   "id": "89b2b073",
   "metadata": {},
   "outputs": [
    {
     "ename": "NameError",
     "evalue": "name 'plt' is not defined",
     "output_type": "error",
     "traceback": [
      "\u001b[1;31m---------------------------------------------------------------------------\u001b[0m",
      "\u001b[1;31mNameError\u001b[0m                                 Traceback (most recent call last)",
      "Cell \u001b[1;32mIn[1], line 1\u001b[0m\n\u001b[1;32m----> 1\u001b[0m fig, axes \u001b[38;5;241m=\u001b[39m \u001b[43mplt\u001b[49m\u001b[38;5;241m.\u001b[39msubplots(\u001b[38;5;241m1\u001b[39m, \u001b[38;5;241m2\u001b[39m, figsize\u001b[38;5;241m=\u001b[39m(\u001b[38;5;241m12\u001b[39m, \u001b[38;5;241m6\u001b[39m))\n\u001b[0;32m      2\u001b[0m \u001b[38;5;28;01mfor\u001b[39;00m i, (store_id, store_data) \u001b[38;5;129;01min\u001b[39;00m \u001b[38;5;28menumerate\u001b[39m(grouped_data):\n\u001b[0;32m      3\u001b[0m     ax \u001b[38;5;241m=\u001b[39m axes[i]\n",
      "\u001b[1;31mNameError\u001b[0m: name 'plt' is not defined"
     ]
    }
   ],
   "source": [
    "fig, axes = plt.subplots(1, 2, figsize=(12, 6))\n",
    "for i, (store_id, store_data) in enumerate(grouped_data):\n",
    "    ax = axes[i]\n",
    "    \n",
    "    country_sum = store_data.groupby('country')['sum'].sum()\n",
    "    ax.pie(country_sum, labels=country_sum.index, autopct='%1.1f%%')\n",
    "    ax.set_title('Store {}'.format(store_id))\n",
    "    fig.suptitle('Share of Countries in Sum by Store')\n",
    "plt.tight_layout()"
   ]
  },
  {
   "cell_type": "code",
   "execution_count": null,
   "id": "6acd3e1f",
   "metadata": {},
   "outputs": [],
   "source": [
    "fig, axes = plt.subplots(1, 2, figsize=(12, 6))\n",
    "for i, (store_id, store_data) in enumerate(grouped_data):\n",
    "    ax = axes[i]\n",
    "    \n",
    "    country_sum = store_data.groupby('country')['sum'].sum()\n",
    "    # Calculate the percentage for each country\n",
    "    percentages = country_sum / country_sum.sum() * 100\n",
    "    \n",
    "    # Filter countries with a share higher than 8 percent\n",
    "    filtered_countries = percentages[percentages > 8]\n",
    "    labels = filtered_countries.index\n",
    "    \n",
    "    # Calculate the percentage for the \"others\" category\n",
    "    others_percentage = 100 - filtered_countries.sum()\n",
    "    \n",
    "    # Concatenate the labels with \"others\"\n",
    "    labels = np.append(labels, f'Others ({others_percentage:.1f}%)')\n",
    "    \n",
    "    # Plot the pie chart with the modified labels\n",
    "    ax.pie(filtered_countries, labels=labels, autopct='%1.1f%%')\n",
    "    ax.set_title('Store {}'.format(store_id))\n",
    "    \n",
    "fig.suptitle('Share of Countries in Sum by Store')\n",
    "plt.tight_layout()\n",
    "plt.show()\n"
   ]
  }
 ],
 "metadata": {
  "kernelspec": {
   "display_name": "Python 3 (ipykernel)",
   "language": "python",
   "name": "python3"
  },
  "language_info": {
   "codemirror_mode": {
    "name": "ipython",
    "version": 3
   },
   "file_extension": ".py",
   "mimetype": "text/x-python",
   "name": "python",
   "nbconvert_exporter": "python",
   "pygments_lexer": "ipython3",
   "version": "3.11.4"
  }
 },
 "nbformat": 4,
 "nbformat_minor": 5
}
